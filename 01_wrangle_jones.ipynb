{
 "cells": [
  {
   "cell_type": "markdown",
   "id": "4a62589c",
   "metadata": {},
   "source": [
    "# Scrapyard for `01_wrangle`"
   ]
  },
  {
   "cell_type": "markdown",
   "id": "2a763344",
   "metadata": {},
   "source": [
    "### Testing import function\n",
    ">Raw DataFrame will be stored as `df`"
   ]
  },
  {
   "cell_type": "code",
   "execution_count": 1,
   "id": "6c2fa46f",
   "metadata": {
    "scrolled": true
   },
   "outputs": [],
   "source": [
    "import wrangle_jones"
   ]
  },
  {
   "cell_type": "code",
   "execution_count": 2,
   "id": "8e4974e0",
   "metadata": {
    "scrolled": false
   },
   "outputs": [],
   "source": [
    "df = wrangle_jones.acquire_zillow()"
   ]
  },
  {
   "cell_type": "code",
   "execution_count": 3,
   "id": "710447de",
   "metadata": {},
   "outputs": [
    {
     "data": {
      "text/html": [
       "<div><div id=5b0032b8-e422-4521-9f69-19c36583e520 style=\"display:none; background-color:#9D6CFF; color:white; width:200px; height:30px; padding-left:5px; border-radius:4px; flex-direction:row; justify-content:space-around; align-items:center;\" onmouseover=\"this.style.backgroundColor='#BA9BF8'\" onmouseout=\"this.style.backgroundColor='#9D6CFF'\" onclick=\"window.commands?.execute('create-mitosheet-from-dataframe-output');\">See Full Dataframe in Mito</div> <script> if (window.commands.hasCommand('create-mitosheet-from-dataframe-output')) document.getElementById('5b0032b8-e422-4521-9f69-19c36583e520').style.display = 'flex' </script> <table border=\"1\" class=\"dataframe\">\n",
       "  <thead>\n",
       "    <tr style=\"text-align: right;\">\n",
       "      <th></th>\n",
       "      <th>baths</th>\n",
       "      <th>beds</th>\n",
       "      <th>sqft</th>\n",
       "      <th>fullbaths</th>\n",
       "      <th>latitude</th>\n",
       "      <th>longitude</th>\n",
       "      <th>yearbuilt</th>\n",
       "      <th>tax_value</th>\n",
       "      <th>logerror</th>\n",
       "      <th>transactiondate</th>\n",
       "      <th>unitcnt</th>\n",
       "      <th>propertylandusetypeid</th>\n",
       "    </tr>\n",
       "  </thead>\n",
       "  <tbody>\n",
       "    <tr>\n",
       "      <th>0</th>\n",
       "      <td>3.5</td>\n",
       "      <td>4.0</td>\n",
       "      <td>3100.0</td>\n",
       "      <td>3.0</td>\n",
       "      <td>33634931.0</td>\n",
       "      <td>-117869207.0</td>\n",
       "      <td>1998.0</td>\n",
       "      <td>1023282.0</td>\n",
       "      <td>0.025595</td>\n",
       "      <td>2017-01-01</td>\n",
       "      <td>NaN</td>\n",
       "      <td>261.0</td>\n",
       "    </tr>\n",
       "    <tr>\n",
       "      <th>1</th>\n",
       "      <td>1.0</td>\n",
       "      <td>2.0</td>\n",
       "      <td>1465.0</td>\n",
       "      <td>1.0</td>\n",
       "      <td>34449266.0</td>\n",
       "      <td>-119281531.0</td>\n",
       "      <td>1967.0</td>\n",
       "      <td>464000.0</td>\n",
       "      <td>0.055619</td>\n",
       "      <td>2017-01-01</td>\n",
       "      <td>NaN</td>\n",
       "      <td>261.0</td>\n",
       "    </tr>\n",
       "    <tr>\n",
       "      <th>2</th>\n",
       "      <td>2.0</td>\n",
       "      <td>3.0</td>\n",
       "      <td>1243.0</td>\n",
       "      <td>2.0</td>\n",
       "      <td>33886168.0</td>\n",
       "      <td>-117823170.0</td>\n",
       "      <td>1962.0</td>\n",
       "      <td>564778.0</td>\n",
       "      <td>0.005383</td>\n",
       "      <td>2017-01-01</td>\n",
       "      <td>NaN</td>\n",
       "      <td>261.0</td>\n",
       "    </tr>\n",
       "    <tr>\n",
       "      <th>3</th>\n",
       "      <td>3.0</td>\n",
       "      <td>4.0</td>\n",
       "      <td>2376.0</td>\n",
       "      <td>3.0</td>\n",
       "      <td>34245180.0</td>\n",
       "      <td>-118240722.0</td>\n",
       "      <td>1970.0</td>\n",
       "      <td>145143.0</td>\n",
       "      <td>-0.103410</td>\n",
       "      <td>2017-01-01</td>\n",
       "      <td>1.0</td>\n",
       "      <td>261.0</td>\n",
       "    </tr>\n",
       "    <tr>\n",
       "      <th>4</th>\n",
       "      <td>3.0</td>\n",
       "      <td>3.0</td>\n",
       "      <td>1312.0</td>\n",
       "      <td>3.0</td>\n",
       "      <td>34185120.0</td>\n",
       "      <td>-118414640.0</td>\n",
       "      <td>1964.0</td>\n",
       "      <td>119407.0</td>\n",
       "      <td>0.006940</td>\n",
       "      <td>2017-01-01</td>\n",
       "      <td>1.0</td>\n",
       "      <td>266.0</td>\n",
       "    </tr>\n",
       "    <tr>\n",
       "      <th>...</th>\n",
       "      <td>...</td>\n",
       "      <td>...</td>\n",
       "      <td>...</td>\n",
       "      <td>...</td>\n",
       "      <td>...</td>\n",
       "      <td>...</td>\n",
       "      <td>...</td>\n",
       "      <td>...</td>\n",
       "      <td>...</td>\n",
       "      <td>...</td>\n",
       "      <td>...</td>\n",
       "      <td>...</td>\n",
       "    </tr>\n",
       "    <tr>\n",
       "      <th>77375</th>\n",
       "      <td>3.0</td>\n",
       "      <td>3.0</td>\n",
       "      <td>1741.0</td>\n",
       "      <td>3.0</td>\n",
       "      <td>34202400.0</td>\n",
       "      <td>-118502000.0</td>\n",
       "      <td>1980.0</td>\n",
       "      <td>379000.0</td>\n",
       "      <td>-0.002245</td>\n",
       "      <td>2017-09-20</td>\n",
       "      <td>1.0</td>\n",
       "      <td>266.0</td>\n",
       "    </tr>\n",
       "    <tr>\n",
       "      <th>77376</th>\n",
       "      <td>2.0</td>\n",
       "      <td>2.0</td>\n",
       "      <td>1286.0</td>\n",
       "      <td>2.0</td>\n",
       "      <td>34245368.0</td>\n",
       "      <td>-118282383.0</td>\n",
       "      <td>1940.0</td>\n",
       "      <td>354621.0</td>\n",
       "      <td>0.020615</td>\n",
       "      <td>2017-09-20</td>\n",
       "      <td>1.0</td>\n",
       "      <td>261.0</td>\n",
       "    </tr>\n",
       "    <tr>\n",
       "      <th>77377</th>\n",
       "      <td>2.0</td>\n",
       "      <td>4.0</td>\n",
       "      <td>1612.0</td>\n",
       "      <td>2.0</td>\n",
       "      <td>34300140.0</td>\n",
       "      <td>-118706327.0</td>\n",
       "      <td>1964.0</td>\n",
       "      <td>67205.0</td>\n",
       "      <td>0.013209</td>\n",
       "      <td>2017-09-21</td>\n",
       "      <td>NaN</td>\n",
       "      <td>261.0</td>\n",
       "    </tr>\n",
       "    <tr>\n",
       "      <th>77378</th>\n",
       "      <td>1.0</td>\n",
       "      <td>3.0</td>\n",
       "      <td>1032.0</td>\n",
       "      <td>1.0</td>\n",
       "      <td>34040895.0</td>\n",
       "      <td>-118038169.0</td>\n",
       "      <td>1954.0</td>\n",
       "      <td>49546.0</td>\n",
       "      <td>0.037129</td>\n",
       "      <td>2017-09-21</td>\n",
       "      <td>1.0</td>\n",
       "      <td>261.0</td>\n",
       "    </tr>\n",
       "    <tr>\n",
       "      <th>77379</th>\n",
       "      <td>2.0</td>\n",
       "      <td>3.0</td>\n",
       "      <td>1762.0</td>\n",
       "      <td>2.0</td>\n",
       "      <td>33937685.0</td>\n",
       "      <td>-117996709.0</td>\n",
       "      <td>1955.0</td>\n",
       "      <td>522000.0</td>\n",
       "      <td>0.007204</td>\n",
       "      <td>2017-09-25</td>\n",
       "      <td>1.0</td>\n",
       "      <td>261.0</td>\n",
       "    </tr>\n",
       "  </tbody>\n",
       "</table></div>"
      ],
      "text/plain": [
       "       baths  beds    sqft  fullbaths    latitude    longitude  yearbuilt  \\\n",
       "0        3.5   4.0  3100.0        3.0  33634931.0 -117869207.0     1998.0   \n",
       "1        1.0   2.0  1465.0        1.0  34449266.0 -119281531.0     1967.0   \n",
       "2        2.0   3.0  1243.0        2.0  33886168.0 -117823170.0     1962.0   \n",
       "3        3.0   4.0  2376.0        3.0  34245180.0 -118240722.0     1970.0   \n",
       "4        3.0   3.0  1312.0        3.0  34185120.0 -118414640.0     1964.0   \n",
       "...      ...   ...     ...        ...         ...          ...        ...   \n",
       "77375    3.0   3.0  1741.0        3.0  34202400.0 -118502000.0     1980.0   \n",
       "77376    2.0   2.0  1286.0        2.0  34245368.0 -118282383.0     1940.0   \n",
       "77377    2.0   4.0  1612.0        2.0  34300140.0 -118706327.0     1964.0   \n",
       "77378    1.0   3.0  1032.0        1.0  34040895.0 -118038169.0     1954.0   \n",
       "77379    2.0   3.0  1762.0        2.0  33937685.0 -117996709.0     1955.0   \n",
       "\n",
       "       tax_value  logerror transactiondate  unitcnt  propertylandusetypeid  \n",
       "0      1023282.0  0.025595      2017-01-01      NaN                  261.0  \n",
       "1       464000.0  0.055619      2017-01-01      NaN                  261.0  \n",
       "2       564778.0  0.005383      2017-01-01      NaN                  261.0  \n",
       "3       145143.0 -0.103410      2017-01-01      1.0                  261.0  \n",
       "4       119407.0  0.006940      2017-01-01      1.0                  266.0  \n",
       "...          ...       ...             ...      ...                    ...  \n",
       "77375   379000.0 -0.002245      2017-09-20      1.0                  266.0  \n",
       "77376   354621.0  0.020615      2017-09-20      1.0                  261.0  \n",
       "77377    67205.0  0.013209      2017-09-21      NaN                  261.0  \n",
       "77378    49546.0  0.037129      2017-09-21      1.0                  261.0  \n",
       "77379   522000.0  0.007204      2017-09-25      1.0                  261.0  \n",
       "\n",
       "[77380 rows x 12 columns]"
      ]
     },
     "execution_count": 3,
     "metadata": {},
     "output_type": "execute_result"
    }
   ],
   "source": [
    "df"
   ]
  },
  {
   "cell_type": "code",
   "execution_count": 4,
   "id": "090954d4",
   "metadata": {},
   "outputs": [
    {
     "data": {
      "text/plain": [
       "baths                    float64\n",
       "beds                     float64\n",
       "sqft                     float64\n",
       "fullbaths                float64\n",
       "latitude                 float64\n",
       "longitude                float64\n",
       "yearbuilt                float64\n",
       "tax_value                float64\n",
       "logerror                 float64\n",
       "transactiondate           object\n",
       "unitcnt                  float64\n",
       "propertylandusetypeid    float64\n",
       "dtype: object"
      ]
     },
     "execution_count": 4,
     "metadata": {},
     "output_type": "execute_result"
    }
   ],
   "source": [
    "df.dtypes"
   ]
  },
  {
   "cell_type": "code",
   "execution_count": 5,
   "id": "b2b46034",
   "metadata": {},
   "outputs": [],
   "source": [
    "# df.rooms.value_counts()"
   ]
  },
  {
   "cell_type": "markdown",
   "id": "28fcda47",
   "metadata": {},
   "source": [
    "### Testing wrangle function\n",
    ">Wrangled df will be stored in `df_wrangled`"
   ]
  },
  {
   "cell_type": "code",
   "execution_count": 6,
   "id": "f27ec7de",
   "metadata": {},
   "outputs": [
    {
     "data": {
      "text/plain": [
       "Index(['baths', 'beds', 'sqft', 'fullbaths', 'latitude', 'longitude',\n",
       "       'yearbuilt', 'tax_value', 'logerror', 'transactiondate', 'unitcnt',\n",
       "       'propertylandusetypeid'],\n",
       "      dtype='object')"
      ]
     },
     "execution_count": 6,
     "metadata": {},
     "output_type": "execute_result"
    }
   ],
   "source": [
    "df.columns"
   ]
  },
  {
   "cell_type": "code",
   "execution_count": 7,
   "id": "419389c8",
   "metadata": {},
   "outputs": [],
   "source": [
    "# df = df[df.propertylandusetypeid.isin([261, 262, 263, 264, 266, 268, 273, 276, 279])]\n",
    "# df = df[(df.baths > 0) & (df.beds > 0) & (df.sqft > 300)]\n",
    "# df = df[df.unitcnt == 1]\n",
    "    \n",
    "# #dropping null rows and columns with > 50% of values missing\n",
    "# df = df.dropna(axis = 1, thresh = .5 * len(df))\n",
    "# df = df.dropna(thresh = .5 * len(df.columns))\n",
    "# #    df.dropna(axis = 1, inplace = True)\n",
    "    \n",
    "#     #label fips counties\n",
    "# df['fips'] = df.fips.astype(int)\n",
    "# df['fips_loc'] = df.fips.replace({6037:'Los Angeles, CA', 6059:'Orange, CA', 6111:'Ventura, CA'})\n",
    "    \n",
    "#     #create age column from yearbuilt\n",
    "# df['age'] = 2022 - df.yearbuilt"
   ]
  },
  {
   "cell_type": "code",
   "execution_count": 8,
   "id": "ec52aca4",
   "metadata": {},
   "outputs": [
    {
     "data": {
      "text/plain": [
       "(77380, 12)"
      ]
     },
     "execution_count": 8,
     "metadata": {},
     "output_type": "execute_result"
    }
   ],
   "source": [
    "df.shape"
   ]
  },
  {
   "cell_type": "code",
   "execution_count": 9,
   "id": "91963f02",
   "metadata": {},
   "outputs": [],
   "source": [
    "# df.dropna().isnull().sum()"
   ]
  },
  {
   "cell_type": "code",
   "execution_count": 10,
   "id": "35d47385",
   "metadata": {},
   "outputs": [
    {
     "data": {
      "text/plain": [
       "baths                        0\n",
       "beds                         0\n",
       "sqft                       196\n",
       "fullbaths                  609\n",
       "latitude                     0\n",
       "longitude                    0\n",
       "yearbuilt                  263\n",
       "tax_value                    1\n",
       "logerror                     0\n",
       "transactiondate              0\n",
       "unitcnt                  26818\n",
       "propertylandusetypeid        0\n",
       "dtype: int64"
      ]
     },
     "execution_count": 10,
     "metadata": {},
     "output_type": "execute_result"
    }
   ],
   "source": [
    "df.isna().sum()"
   ]
  },
  {
   "cell_type": "code",
   "execution_count": 11,
   "id": "e55ed5c8",
   "metadata": {
    "scrolled": false
   },
   "outputs": [
    {
     "name": "stderr",
     "output_type": "stream",
     "text": [
      "NumExpr defaulting to 8 threads.\n"
     ]
    }
   ],
   "source": [
    "df_wrangled = wrangle_jones.wrangle_zillow(df)"
   ]
  },
  {
   "cell_type": "code",
   "execution_count": 12,
   "id": "eeeecde1",
   "metadata": {},
   "outputs": [],
   "source": [
    "# df_wrangled.rooms.value_counts()"
   ]
  },
  {
   "cell_type": "code",
   "execution_count": 13,
   "id": "bd875ee9",
   "metadata": {},
   "outputs": [
    {
     "data": {
      "text/html": [
       "<div><div id=9785d90a-c986-4679-9333-a70223e96c35 style=\"display:none; background-color:#9D6CFF; color:white; width:200px; height:30px; padding-left:5px; border-radius:4px; flex-direction:row; justify-content:space-around; align-items:center;\" onmouseover=\"this.style.backgroundColor='#BA9BF8'\" onmouseout=\"this.style.backgroundColor='#9D6CFF'\" onclick=\"window.commands?.execute('create-mitosheet-from-dataframe-output');\">See Full Dataframe in Mito</div> <script> if (window.commands.hasCommand('create-mitosheet-from-dataframe-output')) document.getElementById('9785d90a-c986-4679-9333-a70223e96c35').style.display = 'flex' </script> <table border=\"1\" class=\"dataframe\">\n",
       "  <thead>\n",
       "    <tr style=\"text-align: right;\">\n",
       "      <th></th>\n",
       "      <th>baths</th>\n",
       "      <th>beds</th>\n",
       "      <th>sqft</th>\n",
       "      <th>fullbaths</th>\n",
       "      <th>latitude</th>\n",
       "      <th>longitude</th>\n",
       "      <th>tax_value</th>\n",
       "      <th>logerror</th>\n",
       "      <th>age</th>\n",
       "    </tr>\n",
       "  </thead>\n",
       "  <tbody>\n",
       "    <tr>\n",
       "      <th>3</th>\n",
       "      <td>3.0</td>\n",
       "      <td>4</td>\n",
       "      <td>2376</td>\n",
       "      <td>3</td>\n",
       "      <td>34245180</td>\n",
       "      <td>-118240722</td>\n",
       "      <td>145143.0</td>\n",
       "      <td>-0.103410</td>\n",
       "      <td>52.0</td>\n",
       "    </tr>\n",
       "    <tr>\n",
       "      <th>4</th>\n",
       "      <td>3.0</td>\n",
       "      <td>3</td>\n",
       "      <td>1312</td>\n",
       "      <td>3</td>\n",
       "      <td>34185120</td>\n",
       "      <td>-118414640</td>\n",
       "      <td>119407.0</td>\n",
       "      <td>0.006940</td>\n",
       "      <td>58.0</td>\n",
       "    </tr>\n",
       "    <tr>\n",
       "      <th>7</th>\n",
       "      <td>1.0</td>\n",
       "      <td>2</td>\n",
       "      <td>738</td>\n",
       "      <td>1</td>\n",
       "      <td>34149214</td>\n",
       "      <td>-118239357</td>\n",
       "      <td>218552.0</td>\n",
       "      <td>0.101723</td>\n",
       "      <td>100.0</td>\n",
       "    </tr>\n",
       "    <tr>\n",
       "      <th>9</th>\n",
       "      <td>3.0</td>\n",
       "      <td>2</td>\n",
       "      <td>1290</td>\n",
       "      <td>3</td>\n",
       "      <td>33998800</td>\n",
       "      <td>-118416000</td>\n",
       "      <td>371361.0</td>\n",
       "      <td>-0.036763</td>\n",
       "      <td>42.0</td>\n",
       "    </tr>\n",
       "    <tr>\n",
       "      <th>10</th>\n",
       "      <td>3.0</td>\n",
       "      <td>4</td>\n",
       "      <td>2540</td>\n",
       "      <td>3</td>\n",
       "      <td>34434971</td>\n",
       "      <td>-118464390</td>\n",
       "      <td>430108.0</td>\n",
       "      <td>0.005963</td>\n",
       "      <td>23.0</td>\n",
       "    </tr>\n",
       "    <tr>\n",
       "      <th>...</th>\n",
       "      <td>...</td>\n",
       "      <td>...</td>\n",
       "      <td>...</td>\n",
       "      <td>...</td>\n",
       "      <td>...</td>\n",
       "      <td>...</td>\n",
       "      <td>...</td>\n",
       "      <td>...</td>\n",
       "      <td>...</td>\n",
       "    </tr>\n",
       "    <tr>\n",
       "      <th>77374</th>\n",
       "      <td>2.0</td>\n",
       "      <td>4</td>\n",
       "      <td>1633</td>\n",
       "      <td>2</td>\n",
       "      <td>33870815</td>\n",
       "      <td>-118070858</td>\n",
       "      <td>346534.0</td>\n",
       "      <td>0.001082</td>\n",
       "      <td>60.0</td>\n",
       "    </tr>\n",
       "    <tr>\n",
       "      <th>77375</th>\n",
       "      <td>3.0</td>\n",
       "      <td>3</td>\n",
       "      <td>1741</td>\n",
       "      <td>3</td>\n",
       "      <td>34202400</td>\n",
       "      <td>-118502000</td>\n",
       "      <td>379000.0</td>\n",
       "      <td>-0.002245</td>\n",
       "      <td>42.0</td>\n",
       "    </tr>\n",
       "    <tr>\n",
       "      <th>77376</th>\n",
       "      <td>2.0</td>\n",
       "      <td>2</td>\n",
       "      <td>1286</td>\n",
       "      <td>2</td>\n",
       "      <td>34245368</td>\n",
       "      <td>-118282383</td>\n",
       "      <td>354621.0</td>\n",
       "      <td>0.020615</td>\n",
       "      <td>82.0</td>\n",
       "    </tr>\n",
       "    <tr>\n",
       "      <th>77378</th>\n",
       "      <td>1.0</td>\n",
       "      <td>3</td>\n",
       "      <td>1032</td>\n",
       "      <td>1</td>\n",
       "      <td>34040895</td>\n",
       "      <td>-118038169</td>\n",
       "      <td>49546.0</td>\n",
       "      <td>0.037129</td>\n",
       "      <td>68.0</td>\n",
       "    </tr>\n",
       "    <tr>\n",
       "      <th>77379</th>\n",
       "      <td>2.0</td>\n",
       "      <td>3</td>\n",
       "      <td>1762</td>\n",
       "      <td>2</td>\n",
       "      <td>33937685</td>\n",
       "      <td>-117996709</td>\n",
       "      <td>522000.0</td>\n",
       "      <td>0.007204</td>\n",
       "      <td>67.0</td>\n",
       "    </tr>\n",
       "  </tbody>\n",
       "</table></div>"
      ],
      "text/plain": [
       "       baths  beds  sqft  fullbaths  latitude  longitude  tax_value  logerror  \\\n",
       "3        3.0     4  2376          3  34245180 -118240722   145143.0 -0.103410   \n",
       "4        3.0     3  1312          3  34185120 -118414640   119407.0  0.006940   \n",
       "7        1.0     2   738          1  34149214 -118239357   218552.0  0.101723   \n",
       "9        3.0     2  1290          3  33998800 -118416000   371361.0 -0.036763   \n",
       "10       3.0     4  2540          3  34434971 -118464390   430108.0  0.005963   \n",
       "...      ...   ...   ...        ...       ...        ...        ...       ...   \n",
       "77374    2.0     4  1633          2  33870815 -118070858   346534.0  0.001082   \n",
       "77375    3.0     3  1741          3  34202400 -118502000   379000.0 -0.002245   \n",
       "77376    2.0     2  1286          2  34245368 -118282383   354621.0  0.020615   \n",
       "77378    1.0     3  1032          1  34040895 -118038169    49546.0  0.037129   \n",
       "77379    2.0     3  1762          2  33937685 -117996709   522000.0  0.007204   \n",
       "\n",
       "         age  \n",
       "3       52.0  \n",
       "4       58.0  \n",
       "7      100.0  \n",
       "9       42.0  \n",
       "10      23.0  \n",
       "...      ...  \n",
       "77374   60.0  \n",
       "77375   42.0  \n",
       "77376   82.0  \n",
       "77378   68.0  \n",
       "77379   67.0  \n",
       "\n",
       "[33642 rows x 9 columns]"
      ]
     },
     "execution_count": 13,
     "metadata": {},
     "output_type": "execute_result"
    }
   ],
   "source": [
    "df_wrangled"
   ]
  },
  {
   "cell_type": "code",
   "execution_count": 14,
   "id": "205b83d8",
   "metadata": {},
   "outputs": [
    {
     "data": {
      "text/plain": [
       "263"
      ]
     },
     "execution_count": 14,
     "metadata": {},
     "output_type": "execute_result"
    }
   ],
   "source": [
    "df.yearbuilt.isnull().sum()"
   ]
  },
  {
   "cell_type": "code",
   "execution_count": 15,
   "id": "13c20c92",
   "metadata": {},
   "outputs": [
    {
     "data": {
      "text/plain": [
       "0"
      ]
     },
     "execution_count": 15,
     "metadata": {},
     "output_type": "execute_result"
    }
   ],
   "source": [
    "df_wrangled.shape[0] - df_wrangled.dropna().shape[0]"
   ]
  },
  {
   "cell_type": "markdown",
   "id": "77b08417",
   "metadata": {},
   "source": [
    "### Our wrangle function took care of all our null values"
   ]
  },
  {
   "cell_type": "code",
   "execution_count": 16,
   "id": "49e72031",
   "metadata": {},
   "outputs": [
    {
     "data": {
      "text/html": [
       "<div><div id=85a50b15-40ab-464f-a238-1fe7e8015e4f style=\"display:none; background-color:#9D6CFF; color:white; width:200px; height:30px; padding-left:5px; border-radius:4px; flex-direction:row; justify-content:space-around; align-items:center;\" onmouseover=\"this.style.backgroundColor='#BA9BF8'\" onmouseout=\"this.style.backgroundColor='#9D6CFF'\" onclick=\"window.commands?.execute('create-mitosheet-from-dataframe-output');\">See Full Dataframe in Mito</div> <script> if (window.commands.hasCommand('create-mitosheet-from-dataframe-output')) document.getElementById('85a50b15-40ab-464f-a238-1fe7e8015e4f').style.display = 'flex' </script> <table border=\"1\" class=\"dataframe\">\n",
       "  <thead>\n",
       "    <tr style=\"text-align: right;\">\n",
       "      <th></th>\n",
       "      <th>baths</th>\n",
       "      <th>beds</th>\n",
       "      <th>sqft</th>\n",
       "      <th>fullbaths</th>\n",
       "      <th>latitude</th>\n",
       "      <th>longitude</th>\n",
       "      <th>tax_value</th>\n",
       "      <th>logerror</th>\n",
       "      <th>age</th>\n",
       "    </tr>\n",
       "  </thead>\n",
       "  <tbody>\n",
       "    <tr>\n",
       "      <th>3</th>\n",
       "      <td>3.0</td>\n",
       "      <td>4</td>\n",
       "      <td>2376</td>\n",
       "      <td>3</td>\n",
       "      <td>34245180</td>\n",
       "      <td>-118240722</td>\n",
       "      <td>145143.0</td>\n",
       "      <td>-0.103410</td>\n",
       "      <td>52.0</td>\n",
       "    </tr>\n",
       "    <tr>\n",
       "      <th>4</th>\n",
       "      <td>3.0</td>\n",
       "      <td>3</td>\n",
       "      <td>1312</td>\n",
       "      <td>3</td>\n",
       "      <td>34185120</td>\n",
       "      <td>-118414640</td>\n",
       "      <td>119407.0</td>\n",
       "      <td>0.006940</td>\n",
       "      <td>58.0</td>\n",
       "    </tr>\n",
       "    <tr>\n",
       "      <th>7</th>\n",
       "      <td>1.0</td>\n",
       "      <td>2</td>\n",
       "      <td>738</td>\n",
       "      <td>1</td>\n",
       "      <td>34149214</td>\n",
       "      <td>-118239357</td>\n",
       "      <td>218552.0</td>\n",
       "      <td>0.101723</td>\n",
       "      <td>100.0</td>\n",
       "    </tr>\n",
       "    <tr>\n",
       "      <th>9</th>\n",
       "      <td>3.0</td>\n",
       "      <td>2</td>\n",
       "      <td>1290</td>\n",
       "      <td>3</td>\n",
       "      <td>33998800</td>\n",
       "      <td>-118416000</td>\n",
       "      <td>371361.0</td>\n",
       "      <td>-0.036763</td>\n",
       "      <td>42.0</td>\n",
       "    </tr>\n",
       "    <tr>\n",
       "      <th>10</th>\n",
       "      <td>3.0</td>\n",
       "      <td>4</td>\n",
       "      <td>2540</td>\n",
       "      <td>3</td>\n",
       "      <td>34434971</td>\n",
       "      <td>-118464390</td>\n",
       "      <td>430108.0</td>\n",
       "      <td>0.005963</td>\n",
       "      <td>23.0</td>\n",
       "    </tr>\n",
       "    <tr>\n",
       "      <th>...</th>\n",
       "      <td>...</td>\n",
       "      <td>...</td>\n",
       "      <td>...</td>\n",
       "      <td>...</td>\n",
       "      <td>...</td>\n",
       "      <td>...</td>\n",
       "      <td>...</td>\n",
       "      <td>...</td>\n",
       "      <td>...</td>\n",
       "    </tr>\n",
       "    <tr>\n",
       "      <th>77374</th>\n",
       "      <td>2.0</td>\n",
       "      <td>4</td>\n",
       "      <td>1633</td>\n",
       "      <td>2</td>\n",
       "      <td>33870815</td>\n",
       "      <td>-118070858</td>\n",
       "      <td>346534.0</td>\n",
       "      <td>0.001082</td>\n",
       "      <td>60.0</td>\n",
       "    </tr>\n",
       "    <tr>\n",
       "      <th>77375</th>\n",
       "      <td>3.0</td>\n",
       "      <td>3</td>\n",
       "      <td>1741</td>\n",
       "      <td>3</td>\n",
       "      <td>34202400</td>\n",
       "      <td>-118502000</td>\n",
       "      <td>379000.0</td>\n",
       "      <td>-0.002245</td>\n",
       "      <td>42.0</td>\n",
       "    </tr>\n",
       "    <tr>\n",
       "      <th>77376</th>\n",
       "      <td>2.0</td>\n",
       "      <td>2</td>\n",
       "      <td>1286</td>\n",
       "      <td>2</td>\n",
       "      <td>34245368</td>\n",
       "      <td>-118282383</td>\n",
       "      <td>354621.0</td>\n",
       "      <td>0.020615</td>\n",
       "      <td>82.0</td>\n",
       "    </tr>\n",
       "    <tr>\n",
       "      <th>77378</th>\n",
       "      <td>1.0</td>\n",
       "      <td>3</td>\n",
       "      <td>1032</td>\n",
       "      <td>1</td>\n",
       "      <td>34040895</td>\n",
       "      <td>-118038169</td>\n",
       "      <td>49546.0</td>\n",
       "      <td>0.037129</td>\n",
       "      <td>68.0</td>\n",
       "    </tr>\n",
       "    <tr>\n",
       "      <th>77379</th>\n",
       "      <td>2.0</td>\n",
       "      <td>3</td>\n",
       "      <td>1762</td>\n",
       "      <td>2</td>\n",
       "      <td>33937685</td>\n",
       "      <td>-117996709</td>\n",
       "      <td>522000.0</td>\n",
       "      <td>0.007204</td>\n",
       "      <td>67.0</td>\n",
       "    </tr>\n",
       "  </tbody>\n",
       "</table></div>"
      ],
      "text/plain": [
       "       baths  beds  sqft  fullbaths  latitude  longitude  tax_value  logerror  \\\n",
       "3        3.0     4  2376          3  34245180 -118240722   145143.0 -0.103410   \n",
       "4        3.0     3  1312          3  34185120 -118414640   119407.0  0.006940   \n",
       "7        1.0     2   738          1  34149214 -118239357   218552.0  0.101723   \n",
       "9        3.0     2  1290          3  33998800 -118416000   371361.0 -0.036763   \n",
       "10       3.0     4  2540          3  34434971 -118464390   430108.0  0.005963   \n",
       "...      ...   ...   ...        ...       ...        ...        ...       ...   \n",
       "77374    2.0     4  1633          2  33870815 -118070858   346534.0  0.001082   \n",
       "77375    3.0     3  1741          3  34202400 -118502000   379000.0 -0.002245   \n",
       "77376    2.0     2  1286          2  34245368 -118282383   354621.0  0.020615   \n",
       "77378    1.0     3  1032          1  34040895 -118038169    49546.0  0.037129   \n",
       "77379    2.0     3  1762          2  33937685 -117996709   522000.0  0.007204   \n",
       "\n",
       "         age  \n",
       "3       52.0  \n",
       "4       58.0  \n",
       "7      100.0  \n",
       "9       42.0  \n",
       "10      23.0  \n",
       "...      ...  \n",
       "77374   60.0  \n",
       "77375   42.0  \n",
       "77376   82.0  \n",
       "77378   68.0  \n",
       "77379   67.0  \n",
       "\n",
       "[33642 rows x 9 columns]"
      ]
     },
     "execution_count": 16,
     "metadata": {},
     "output_type": "execute_result"
    }
   ],
   "source": [
    "df_wrangled"
   ]
  },
  {
   "cell_type": "code",
   "execution_count": 17,
   "id": "bf1ecdfa",
   "metadata": {},
   "outputs": [
    {
     "data": {
      "text/plain": [
       "unitcnt                  26818\n",
       "fullbaths                  609\n",
       "yearbuilt                  263\n",
       "sqft                       196\n",
       "tax_value                    1\n",
       "baths                        0\n",
       "beds                         0\n",
       "latitude                     0\n",
       "longitude                    0\n",
       "logerror                     0\n",
       "transactiondate              0\n",
       "propertylandusetypeid        0\n",
       "dtype: int64"
      ]
     },
     "execution_count": 17,
     "metadata": {},
     "output_type": "execute_result"
    }
   ],
   "source": [
    "df.isnull().sum().sort_values(ascending = False)"
   ]
  },
  {
   "cell_type": "code",
   "execution_count": 18,
   "id": "5c787f79",
   "metadata": {},
   "outputs": [
    {
     "data": {
      "text/plain": [
       "baths        0\n",
       "beds         0\n",
       "sqft         0\n",
       "fullbaths    0\n",
       "latitude     0\n",
       "longitude    0\n",
       "tax_value    0\n",
       "logerror     0\n",
       "age          0\n",
       "dtype: int64"
      ]
     },
     "execution_count": 18,
     "metadata": {},
     "output_type": "execute_result"
    }
   ],
   "source": [
    "df_wrangled.isnull().sum().sort_values(ascending = False)"
   ]
  },
  {
   "cell_type": "code",
   "execution_count": 19,
   "id": "df48015a",
   "metadata": {},
   "outputs": [],
   "source": [
    "# df_wrangled.fips_loc.dtype"
   ]
  },
  {
   "cell_type": "code",
   "execution_count": 20,
   "id": "cc60b73a",
   "metadata": {},
   "outputs": [],
   "source": [
    "# (2022 - df_wrangled.yearbuilt)/2"
   ]
  },
  {
   "cell_type": "code",
   "execution_count": 21,
   "id": "d1d88a80",
   "metadata": {},
   "outputs": [
    {
     "name": "stdout",
     "output_type": "stream",
     "text": [
      "<class 'pandas.core.frame.DataFrame'>\n",
      "Int64Index: 33642 entries, 3 to 77379\n",
      "Data columns (total 9 columns):\n",
      " #   Column     Non-Null Count  Dtype  \n",
      "---  ------     --------------  -----  \n",
      " 0   baths      33642 non-null  float64\n",
      " 1   beds       33642 non-null  int64  \n",
      " 2   sqft       33642 non-null  int64  \n",
      " 3   fullbaths  33642 non-null  int64  \n",
      " 4   latitude   33642 non-null  int64  \n",
      " 5   longitude  33642 non-null  int64  \n",
      " 6   tax_value  33642 non-null  float64\n",
      " 7   logerror   33642 non-null  float64\n",
      " 8   age        33642 non-null  float64\n",
      "dtypes: float64(4), int64(5)\n",
      "memory usage: 2.6 MB\n"
     ]
    }
   ],
   "source": [
    "df_wrangled.info()"
   ]
  },
  {
   "cell_type": "code",
   "execution_count": 22,
   "id": "b9d66642",
   "metadata": {
    "scrolled": false
   },
   "outputs": [],
   "source": [
    "# df_wrangled[['beds', 'sqft']].astype('int')"
   ]
  },
  {
   "cell_type": "code",
   "execution_count": 23,
   "id": "7a1f2fab",
   "metadata": {},
   "outputs": [
    {
     "data": {
      "text/plain": [
       "baths        float64\n",
       "beds           int64\n",
       "sqft           int64\n",
       "fullbaths      int64\n",
       "latitude       int64\n",
       "longitude      int64\n",
       "tax_value    float64\n",
       "logerror     float64\n",
       "age          float64\n",
       "dtype: object"
      ]
     },
     "execution_count": 23,
     "metadata": {},
     "output_type": "execute_result"
    }
   ],
   "source": [
    "df_wrangled.dtypes"
   ]
  },
  {
   "cell_type": "code",
   "execution_count": 24,
   "id": "d7c9ca92",
   "metadata": {},
   "outputs": [
    {
     "data": {
      "text/plain": [
       "9"
      ]
     },
     "execution_count": 24,
     "metadata": {},
     "output_type": "execute_result"
    }
   ],
   "source": [
    "len(df_wrangled.columns)"
   ]
  },
  {
   "cell_type": "code",
   "execution_count": 25,
   "id": "1cd23a90",
   "metadata": {},
   "outputs": [],
   "source": [
    "# df_wrangled.fips_loc.dtype"
   ]
  },
  {
   "cell_type": "code",
   "execution_count": null,
   "id": "d68cf7af",
   "metadata": {},
   "outputs": [],
   "source": []
  },
  {
   "cell_type": "code",
   "execution_count": 26,
   "id": "1f9af63c",
   "metadata": {
    "scrolled": true
   },
   "outputs": [
    {
     "name": "stderr",
     "output_type": "stream",
     "text": [
      "/usr/local/anaconda3/lib/python3.8/site-packages/seaborn/_decorators.py:36: FutureWarning: Pass the following variable as a keyword arg: x. From version 0.12, the only valid positional argument will be `data`, and passing other arguments without an explicit keyword will result in an error or misinterpretation.\n",
      "  warnings.warn(\n"
     ]
    },
    {
     "data": {
      "image/png": "[encoded data removed]",
      "text/plain": [
       "<Figure size 432x288 with 1 Axes>"
      ]
     },
     "metadata": {
      "needs_background": "light"
     },
     "output_type": "display_data"
    },
    {
     "name": "stdout",
     "output_type": "stream",
     "text": [
      "\n"
     ]
    },
    {
     "name": "stderr",
     "output_type": "stream",
     "text": [
      "/usr/local/anaconda3/lib/python3.8/site-packages/seaborn/_decorators.py:36: FutureWarning: Pass the following variable as a keyword arg: x. From version 0.12, the only valid positional argument will be `data`, and passing other arguments without an explicit keyword will result in an error or misinterpretation.\n",
      "  warnings.warn(\n"
     ]
    },
    {
     "data": {
      "image/png": "[encoded data removed]",
      "text/plain": [
       "<Figure size 432x288 with 1 Axes>"
      ]
     },
     "metadata": {
      "needs_background": "light"
     },
     "output_type": "display_data"
    },
    {
     "name": "stdout",
     "output_type": "stream",
     "text": [
      "\n"
     ]
    },
    {
     "name": "stderr",
     "output_type": "stream",
     "text": [
      "/usr/local/anaconda3/lib/python3.8/site-packages/seaborn/_decorators.py:36: FutureWarning: Pass the following variable as a keyword arg: x. From version 0.12, the only valid positional argument will be `data`, and passing other arguments without an explicit keyword will result in an error or misinterpretation.\n",
      "  warnings.warn(\n"
     ]
    },
    {
     "data": {
      "image/png": "[encoded data removed]",
      "text/plain": [
       "<Figure size 432x288 with 1 Axes>"
      ]
     },
     "metadata": {
      "needs_background": "light"
     },
     "output_type": "display_data"
    },
    {
     "name": "stdout",
     "output_type": "stream",
     "text": [
      "\n"
     ]
    },
    {
     "name": "stderr",
     "output_type": "stream",
     "text": [
      "/usr/local/anaconda3/lib/python3.8/site-packages/seaborn/_decorators.py:36: FutureWarning: Pass the following variable as a keyword arg: x. From version 0.12, the only valid positional argument will be `data`, and passing other arguments without an explicit keyword will result in an error or misinterpretation.\n",
      "  warnings.warn(\n"
     ]
    },
    {
     "data": {
      "image/png": "[encoded data removed]",
      "text/plain": [
       "<Figure size 432x288 with 1 Axes>"
      ]
     },
     "metadata": {
      "needs_background": "light"
     },
     "output_type": "display_data"
    },
    {
     "name": "stdout",
     "output_type": "stream",
     "text": [
      "\n"
     ]
    },
    {
     "name": "stderr",
     "output_type": "stream",
     "text": [
      "/usr/local/anaconda3/lib/python3.8/site-packages/seaborn/_decorators.py:36: FutureWarning: Pass the following variable as a keyword arg: x. From version 0.12, the only valid positional argument will be `data`, and passing other arguments without an explicit keyword will result in an error or misinterpretation.\n",
      "  warnings.warn(\n"
     ]
    },
    {
     "data": {
      "image/png": "[encoded data removed]",
      "text/plain": [
       "<Figure size 432x288 with 1 Axes>"
      ]
     },
     "metadata": {
      "needs_background": "light"
     },
     "output_type": "display_data"
    },
    {
     "name": "stdout",
     "output_type": "stream",
     "text": [
      "\n"
     ]
    },
    {
     "name": "stderr",
     "output_type": "stream",
     "text": [
      "/usr/local/anaconda3/lib/python3.8/site-packages/seaborn/_decorators.py:36: FutureWarning: Pass the following variable as a keyword arg: x. From version 0.12, the only valid positional argument will be `data`, and passing other arguments without an explicit keyword will result in an error or misinterpretation.\n",
      "  warnings.warn(\n"
     ]
    },
    {
     "data": {
      "image/png": "[encoded data removed]",
      "text/plain": [
       "<Figure size 432x288 with 1 Axes>"
      ]
     },
     "metadata": {
      "needs_background": "light"
     },
     "output_type": "display_data"
    },
    {
     "name": "stdout",
     "output_type": "stream",
     "text": [
      "\n"
     ]
    },
    {
     "name": "stderr",
     "output_type": "stream",
     "text": [
      "/usr/local/anaconda3/lib/python3.8/site-packages/seaborn/_decorators.py:36: FutureWarning: Pass the following variable as a keyword arg: x. From version 0.12, the only valid positional argument will be `data`, and passing other arguments without an explicit keyword will result in an error or misinterpretation.\n",
      "  warnings.warn(\n"
     ]
    },
    {
     "data": {
      "image/png": "[encoded data removed]",
      "text/plain": [
       "<Figure size 432x288 with 1 Axes>"
      ]
     },
     "metadata": {
      "needs_background": "light"
     },
     "output_type": "display_data"
    },
    {
     "name": "stdout",
     "output_type": "stream",
     "text": [
      "\n"
     ]
    },
    {
     "name": "stderr",
     "output_type": "stream",
     "text": [
      "/usr/local/anaconda3/lib/python3.8/site-packages/seaborn/_decorators.py:36: FutureWarning: Pass the following variable as a keyword arg: x. From version 0.12, the only valid positional argument will be `data`, and passing other arguments without an explicit keyword will result in an error or misinterpretation.\n",
      "  warnings.warn(\n"
     ]
    },
    {
     "data": {
      "image/png": "[encoded data removed]",
      "text/plain": [
       "<Figure size 432x288 with 1 Axes>"
      ]
     },
     "metadata": {
      "needs_background": "light"
     },
     "output_type": "display_data"
    },
    {
     "name": "stdout",
     "output_type": "stream",
     "text": [
      "\n"
     ]
    },
    {
     "name": "stderr",
     "output_type": "stream",
     "text": [
      "/usr/local/anaconda3/lib/python3.8/site-packages/seaborn/_decorators.py:36: FutureWarning: Pass the following variable as a keyword arg: x. From version 0.12, the only valid positional argument will be `data`, and passing other arguments without an explicit keyword will result in an error or misinterpretation.\n",
      "  warnings.warn(\n"
     ]
    },
    {
     "data": {
      "image/png": "[encoded data removed]",
      "text/plain": [
       "<Figure size 432x288 with 1 Axes>"
      ]
     },
     "metadata": {
      "needs_background": "light"
     },
     "output_type": "display_data"
    },
    {
     "name": "stdout",
     "output_type": "stream",
     "text": [
      "\n"
     ]
    },
    {
     "name": "stderr",
     "output_type": "stream",
     "text": [
      "/usr/local/anaconda3/lib/python3.8/site-packages/seaborn/_decorators.py:36: FutureWarning: Pass the following variable as a keyword arg: x. From version 0.12, the only valid positional argument will be `data`, and passing other arguments without an explicit keyword will result in an error or misinterpretation.\n",
      "  warnings.warn(\n"
     ]
    },
    {
     "data": {
      "image/png": "[encoded data removed]",
      "text/plain": [
       "<Figure size 432x288 with 1 Axes>"
      ]
     },
     "metadata": {
      "needs_background": "light"
     },
     "output_type": "display_data"
    },
    {
     "name": "stdout",
     "output_type": "stream",
     "text": [
      "\n"
     ]
    },
    {
     "name": "stderr",
     "output_type": "stream",
     "text": [
      "/usr/local/anaconda3/lib/python3.8/site-packages/seaborn/_decorators.py:36: FutureWarning: Pass the following variable as a keyword arg: x. From version 0.12, the only valid positional argument will be `data`, and passing other arguments without an explicit keyword will result in an error or misinterpretation.\n",
      "  warnings.warn(\n"
     ]
    },
    {
     "data": {
      "image/png": "[encoded data removed]",
      "text/plain": [
       "<Figure size 432x288 with 1 Axes>"
      ]
     },
     "metadata": {
      "needs_background": "light"
     },
     "output_type": "display_data"
    },
    {
     "name": "stdout",
     "output_type": "stream",
     "text": [
      "\n"
     ]
    }
   ],
   "source": [
    "import seaborn as sns\n",
    "import matplotlib.pyplot as plt\n",
    "\n",
    "for col in df.columns:\n",
    "    if df[col].dtype != 'O':\n",
    "        sns.boxplot(df[col])\n",
    "        plt.show();\n",
    "        print()\n",
    "    else:\n",
    "        continue"
   ]
  },
  {
   "cell_type": "code",
   "execution_count": 27,
   "id": "a629aad8",
   "metadata": {},
   "outputs": [
    {
     "name": "stderr",
     "output_type": "stream",
     "text": [
      "/usr/local/anaconda3/lib/python3.8/site-packages/seaborn/_decorators.py:36: FutureWarning: Pass the following variable as a keyword arg: x. From version 0.12, the only valid positional argument will be `data`, and passing other arguments without an explicit keyword will result in an error or misinterpretation.\n",
      "  warnings.warn(\n"
     ]
    },
    {
     "data": {
      "image/png": "[encoded data removed]",
      "text/plain": [
       "<Figure size 432x288 with 1 Axes>"
      ]
     },
     "metadata": {
      "needs_background": "light"
     },
     "output_type": "display_data"
    },
    {
     "name": "stdout",
     "output_type": "stream",
     "text": [
      "\n"
     ]
    },
    {
     "name": "stderr",
     "output_type": "stream",
     "text": [
      "/usr/local/anaconda3/lib/python3.8/site-packages/seaborn/_decorators.py:36: FutureWarning: Pass the following variable as a keyword arg: x. From version 0.12, the only valid positional argument will be `data`, and passing other arguments without an explicit keyword will result in an error or misinterpretation.\n",
      "  warnings.warn(\n"
     ]
    },
    {
     "data": {
      "image/png": "[encoded data removed]",
      "text/plain": [
       "<Figure size 432x288 with 1 Axes>"
      ]
     },
     "metadata": {
      "needs_background": "light"
     },
     "output_type": "display_data"
    },
    {
     "name": "stdout",
     "output_type": "stream",
     "text": [
      "\n"
     ]
    },
    {
     "name": "stderr",
     "output_type": "stream",
     "text": [
      "/usr/local/anaconda3/lib/python3.8/site-packages/seaborn/_decorators.py:36: FutureWarning: Pass the following variable as a keyword arg: x. From version 0.12, the only valid positional argument will be `data`, and passing other arguments without an explicit keyword will result in an error or misinterpretation.\n",
      "  warnings.warn(\n"
     ]
    },
    {
     "data": {
      "image/png": "[encoded data removed]",
      "text/plain": [
       "<Figure size 432x288 with 1 Axes>"
      ]
     },
     "metadata": {
      "needs_background": "light"
     },
     "output_type": "display_data"
    },
    {
     "name": "stdout",
     "output_type": "stream",
     "text": [
      "\n"
     ]
    },
    {
     "name": "stderr",
     "output_type": "stream",
     "text": [
      "/usr/local/anaconda3/lib/python3.8/site-packages/seaborn/_decorators.py:36: FutureWarning: Pass the following variable as a keyword arg: x. From version 0.12, the only valid positional argument will be `data`, and passing other arguments without an explicit keyword will result in an error or misinterpretation.\n",
      "  warnings.warn(\n"
     ]
    },
    {
     "data": {
      "image/png": "[encoded data removed]",
      "text/plain": [
       "<Figure size 432x288 with 1 Axes>"
      ]
     },
     "metadata": {
      "needs_background": "light"
     },
     "output_type": "display_data"
    },
    {
     "name": "stdout",
     "output_type": "stream",
     "text": [
      "\n"
     ]
    },
    {
     "name": "stderr",
     "output_type": "stream",
     "text": [
      "/usr/local/anaconda3/lib/python3.8/site-packages/seaborn/_decorators.py:36: FutureWarning: Pass the following variable as a keyword arg: x. From version 0.12, the only valid positional argument will be `data`, and passing other arguments without an explicit keyword will result in an error or misinterpretation.\n",
      "  warnings.warn(\n"
     ]
    },
    {
     "data": {
      "image/png": "[encoded data removed]",
      "text/plain": [
       "<Figure size 432x288 with 1 Axes>"
      ]
     },
     "metadata": {
      "needs_background": "light"
     },
     "output_type": "display_data"
    },
    {
     "name": "stdout",
     "output_type": "stream",
     "text": [
      "\n"
     ]
    },
    {
     "name": "stderr",
     "output_type": "stream",
     "text": [
      "/usr/local/anaconda3/lib/python3.8/site-packages/seaborn/_decorators.py:36: FutureWarning: Pass the following variable as a keyword arg: x. From version 0.12, the only valid positional argument will be `data`, and passing other arguments without an explicit keyword will result in an error or misinterpretation.\n",
      "  warnings.warn(\n"
     ]
    },
    {
     "data": {
      "image/png": "[encoded data removed]",
      "text/plain": [
       "<Figure size 432x288 with 1 Axes>"
      ]
     },
     "metadata": {
      "needs_background": "light"
     },
     "output_type": "display_data"
    },
    {
     "name": "stdout",
     "output_type": "stream",
     "text": [
      "\n"
     ]
    },
    {
     "name": "stderr",
     "output_type": "stream",
     "text": [
      "/usr/local/anaconda3/lib/python3.8/site-packages/seaborn/_decorators.py:36: FutureWarning: Pass the following variable as a keyword arg: x. From version 0.12, the only valid positional argument will be `data`, and passing other arguments without an explicit keyword will result in an error or misinterpretation.\n",
      "  warnings.warn(\n"
     ]
    },
    {
     "data": {
      "image/png": "[encoded data removed]",
      "text/plain": [
       "<Figure size 432x288 with 1 Axes>"
      ]
     },
     "metadata": {
      "needs_background": "light"
     },
     "output_type": "display_data"
    },
    {
     "name": "stdout",
     "output_type": "stream",
     "text": [
      "\n"
     ]
    },
    {
     "name": "stderr",
     "output_type": "stream",
     "text": [
      "/usr/local/anaconda3/lib/python3.8/site-packages/seaborn/_decorators.py:36: FutureWarning: Pass the following variable as a keyword arg: x. From version 0.12, the only valid positional argument will be `data`, and passing other arguments without an explicit keyword will result in an error or misinterpretation.\n",
      "  warnings.warn(\n"
     ]
    },
    {
     "data": {
      "image/png": "[encoded data removed]",
      "text/plain": [
       "<Figure size 432x288 with 1 Axes>"
      ]
     },
     "metadata": {
      "needs_background": "light"
     },
     "output_type": "display_data"
    },
    {
     "name": "stdout",
     "output_type": "stream",
     "text": [
      "\n"
     ]
    },
    {
     "name": "stderr",
     "output_type": "stream",
     "text": [
      "/usr/local/anaconda3/lib/python3.8/site-packages/seaborn/_decorators.py:36: FutureWarning: Pass the following variable as a keyword arg: x. From version 0.12, the only valid positional argument will be `data`, and passing other arguments without an explicit keyword will result in an error or misinterpretation.\n",
      "  warnings.warn(\n"
     ]
    },
    {
     "data": {
      "image/png": "[encoded data removed]",
      "text/plain": [
       "<Figure size 432x288 with 1 Axes>"
      ]
     },
     "metadata": {
      "needs_background": "light"
     },
     "output_type": "display_data"
    },
    {
     "name": "stdout",
     "output_type": "stream",
     "text": [
      "\n"
     ]
    }
   ],
   "source": [
    "for col in df_wrangled.columns:\n",
    "    if df_wrangled[col].dtype != 'O':\n",
    "        sns.boxplot(df_wrangled[col])\n",
    "        plt.show();\n",
    "        print()"
   ]
  },
  {
   "cell_type": "code",
   "execution_count": 28,
   "id": "9050a102",
   "metadata": {},
   "outputs": [
    {
     "data": {
      "text/plain": [
       "baths        float64\n",
       "beds           int64\n",
       "sqft           int64\n",
       "fullbaths      int64\n",
       "latitude       int64\n",
       "longitude      int64\n",
       "tax_value    float64\n",
       "logerror     float64\n",
       "age          float64\n",
       "dtype: object"
      ]
     },
     "execution_count": 28,
     "metadata": {},
     "output_type": "execute_result"
    }
   ],
   "source": [
    "df_wrangled.dtypes"
   ]
  },
  {
   "cell_type": "code",
   "execution_count": 29,
   "id": "44b9006f",
   "metadata": {},
   "outputs": [],
   "source": [
    "# pd.get_dummies(df_wrangled.fips_loc)"
   ]
  },
  {
   "cell_type": "code",
   "execution_count": 30,
   "id": "ae9c92e7",
   "metadata": {},
   "outputs": [],
   "source": [
    "# df_wrangled.fips_loc.value_counts()"
   ]
  },
  {
   "cell_type": "code",
   "execution_count": 31,
   "id": "94ffce93",
   "metadata": {},
   "outputs": [],
   "source": [
    "# df.fips.value_counts()"
   ]
  },
  {
   "cell_type": "code",
   "execution_count": 32,
   "id": "8f655392",
   "metadata": {},
   "outputs": [
    {
     "name": "stdout",
     "output_type": "stream",
     "text": [
      "(20184, 9) (6729, 9) (6729, 9)\n"
     ]
    }
   ],
   "source": [
    "train, validate, test = wrangle_jones.split_data(df_wrangled)\n",
    "\n",
    "print(train.shape, validate.shape, test.shape)"
   ]
  },
  {
   "cell_type": "code",
   "execution_count": 33,
   "id": "c1ee6c26",
   "metadata": {},
   "outputs": [
    {
     "data": {
      "image/png": "[encoded data removed]",
      "text/plain": [
       "<Figure size 432x288 with 9 Axes>"
      ]
     },
     "metadata": {
      "needs_background": "light"
     },
     "output_type": "display_data"
    }
   ],
   "source": [
    "train.hist()\n",
    "plt.tight_layout();"
   ]
  },
  {
   "cell_type": "code",
   "execution_count": 34,
   "id": "a19e4bcb",
   "metadata": {},
   "outputs": [
    {
     "data": {
      "text/plain": [
       "Index(['baths', 'beds', 'sqft', 'fullbaths', 'latitude', 'longitude',\n",
       "       'tax_value', 'logerror', 'age'],\n",
       "      dtype='object')"
      ]
     },
     "execution_count": 34,
     "metadata": {},
     "output_type": "execute_result"
    }
   ],
   "source": [
    "df_wrangled.columns"
   ]
  },
  {
   "cell_type": "code",
   "execution_count": 35,
   "id": "adce7f07",
   "metadata": {},
   "outputs": [],
   "source": [
    "# from sklearn.preprocessing import StandardScaler\n",
    "\n",
    "# cols_to_scale = ['baths', 'beds', 'sqft', 'fullbaths', 'tax_value', 'logerror', 'age']\n",
    "# scaler = StandardScaler()\n",
    "# scaler.fit(train[cols_to_scale])\n",
    "\n",
    "# train[[f'{col}_scaled' for col in cols_to_scale]] = scaler.transform(train[cols_to_scale])\n",
    "# validate[[f'{col}_scaled' for col in cols_to_scale]] = scaler.transform(validate[cols_to_scale])\n",
    "# test[[f'{col}_scaled' for col in cols_to_scale]] = scaler.transform(test[cols_to_scale])\n"
   ]
  },
  {
   "cell_type": "code",
   "execution_count": 36,
   "id": "fe6255bb",
   "metadata": {},
   "outputs": [],
   "source": [
    "# train"
   ]
  },
  {
   "cell_type": "code",
   "execution_count": 37,
   "id": "6c3f20a3",
   "metadata": {},
   "outputs": [
    {
     "name": "stderr",
     "output_type": "stream",
     "text": [
      "/Users/stephanie/codeup-data-science/zillow-clustering-project/wrangle_jones.py:141: SettingWithCopyWarning: \n",
      "A value is trying to be set on a copy of a slice from a DataFrame.\n",
      "Try using .loc[row_indexer,col_indexer] = value instead\n",
      "\n",
      "See the caveats in the documentation: https://pandas.pydata.org/pandas-docs/stable/user_guide/indexing.html#returning-a-view-versus-a-copy\n",
      "  test[[f'{col}_scaled' for col in cols_to_scale]] = scaler.transform(test[cols_to_scale])\n",
      "/usr/local/anaconda3/lib/python3.8/site-packages/pandas/core/indexing.py:1738: SettingWithCopyWarning: \n",
      "A value is trying to be set on a copy of a slice from a DataFrame.\n",
      "Try using .loc[row_indexer,col_indexer] = value instead\n",
      "\n",
      "See the caveats in the documentation: https://pandas.pydata.org/pandas-docs/stable/user_guide/indexing.html#returning-a-view-versus-a-copy\n",
      "  self._setitem_single_column(loc, value[:, i].tolist(), pi)\n"
     ]
    }
   ],
   "source": [
    "train_scaled, validate_scaled, test_scaled = wrangle_jones.scale_data(train, validate, test)"
   ]
  },
  {
   "cell_type": "code",
   "execution_count": 42,
   "id": "607f0e62",
   "metadata": {},
   "outputs": [
    {
     "data": {
      "text/html": [
       "<div><div id=e0481899-6464-4dba-bc4e-2ba119fb26cb style=\"display:none; background-color:#9D6CFF; color:white; width:200px; height:30px; padding-left:5px; border-radius:4px; flex-direction:row; justify-content:space-around; align-items:center;\" onmouseover=\"this.style.backgroundColor='#BA9BF8'\" onmouseout=\"this.style.backgroundColor='#9D6CFF'\" onclick=\"window.commands?.execute('create-mitosheet-from-dataframe-output');\">See Full Dataframe in Mito</div> <script> if (window.commands.hasCommand('create-mitosheet-from-dataframe-output')) document.getElementById('e0481899-6464-4dba-bc4e-2ba119fb26cb').style.display = 'flex' </script> <table border=\"1\" class=\"dataframe\">\n",
       "  <thead>\n",
       "    <tr style=\"text-align: right;\">\n",
       "      <th></th>\n",
       "      <th>baths</th>\n",
       "      <th>beds</th>\n",
       "      <th>sqft</th>\n",
       "      <th>fullbaths</th>\n",
       "      <th>latitude</th>\n",
       "      <th>longitude</th>\n",
       "      <th>tax_value</th>\n",
       "      <th>logerror</th>\n",
       "      <th>age</th>\n",
       "      <th>baths_scaled</th>\n",
       "      <th>beds_scaled</th>\n",
       "      <th>sqft_scaled</th>\n",
       "      <th>fullbaths_scaled</th>\n",
       "      <th>tax_value_scaled</th>\n",
       "      <th>logerror_scaled</th>\n",
       "      <th>age_scaled</th>\n",
       "    </tr>\n",
       "  </thead>\n",
       "  <tbody>\n",
       "    <tr>\n",
       "      <th>24277</th>\n",
       "      <td>2.0</td>\n",
       "      <td>2</td>\n",
       "      <td>763</td>\n",
       "      <td>2</td>\n",
       "      <td>33823600</td>\n",
       "      <td>-118342000</td>\n",
       "      <td>327000.0</td>\n",
       "      <td>-0.005293</td>\n",
       "      <td>20.0</td>\n",
       "      <td>-0.024568</td>\n",
       "      <td>-0.939387</td>\n",
       "      <td>-1.419227</td>\n",
       "      <td>-0.024568</td>\n",
       "      <td>0.002470</td>\n",
       "      <td>-0.183790</td>\n",
       "      <td>-1.646064</td>\n",
       "    </tr>\n",
       "    <tr>\n",
       "      <th>10231</th>\n",
       "      <td>2.0</td>\n",
       "      <td>4</td>\n",
       "      <td>1171</td>\n",
       "      <td>2</td>\n",
       "      <td>34280592</td>\n",
       "      <td>-118425818</td>\n",
       "      <td>353000.0</td>\n",
       "      <td>-0.011207</td>\n",
       "      <td>66.0</td>\n",
       "      <td>-0.024568</td>\n",
       "      <td>1.530082</td>\n",
       "      <td>-0.564908</td>\n",
       "      <td>-0.024568</td>\n",
       "      <td>0.132355</td>\n",
       "      <td>-0.310836</td>\n",
       "      <td>0.366355</td>\n",
       "    </tr>\n",
       "    <tr>\n",
       "      <th>63485</th>\n",
       "      <td>2.0</td>\n",
       "      <td>3</td>\n",
       "      <td>1108</td>\n",
       "      <td>2</td>\n",
       "      <td>34097291</td>\n",
       "      <td>-117999167</td>\n",
       "      <td>39503.0</td>\n",
       "      <td>0.009146</td>\n",
       "      <td>58.0</td>\n",
       "      <td>-0.024568</td>\n",
       "      <td>0.295348</td>\n",
       "      <td>-0.696825</td>\n",
       "      <td>-0.024568</td>\n",
       "      <td>-1.433744</td>\n",
       "      <td>0.126370</td>\n",
       "      <td>0.016369</td>\n",
       "    </tr>\n",
       "    <tr>\n",
       "      <th>60254</th>\n",
       "      <td>2.0</td>\n",
       "      <td>3</td>\n",
       "      <td>1398</td>\n",
       "      <td>2</td>\n",
       "      <td>33888595</td>\n",
       "      <td>-118062849</td>\n",
       "      <td>422081.0</td>\n",
       "      <td>-0.036329</td>\n",
       "      <td>50.0</td>\n",
       "      <td>-0.024568</td>\n",
       "      <td>0.295348</td>\n",
       "      <td>-0.089589</td>\n",
       "      <td>-0.024568</td>\n",
       "      <td>0.477454</td>\n",
       "      <td>-0.850465</td>\n",
       "      <td>-0.333617</td>\n",
       "    </tr>\n",
       "    <tr>\n",
       "      <th>68284</th>\n",
       "      <td>3.0</td>\n",
       "      <td>2</td>\n",
       "      <td>1055</td>\n",
       "      <td>3</td>\n",
       "      <td>34235900</td>\n",
       "      <td>-118463000</td>\n",
       "      <td>136312.0</td>\n",
       "      <td>-0.036942</td>\n",
       "      <td>36.0</td>\n",
       "      <td>1.352902</td>\n",
       "      <td>-0.939387</td>\n",
       "      <td>-0.807803</td>\n",
       "      <td>1.352902</td>\n",
       "      <td>-0.950127</td>\n",
       "      <td>-0.863638</td>\n",
       "      <td>-0.946093</td>\n",
       "    </tr>\n",
       "    <tr>\n",
       "      <th>...</th>\n",
       "      <td>...</td>\n",
       "      <td>...</td>\n",
       "      <td>...</td>\n",
       "      <td>...</td>\n",
       "      <td>...</td>\n",
       "      <td>...</td>\n",
       "      <td>...</td>\n",
       "      <td>...</td>\n",
       "      <td>...</td>\n",
       "      <td>...</td>\n",
       "      <td>...</td>\n",
       "      <td>...</td>\n",
       "      <td>...</td>\n",
       "      <td>...</td>\n",
       "      <td>...</td>\n",
       "      <td>...</td>\n",
       "    </tr>\n",
       "    <tr>\n",
       "      <th>70959</th>\n",
       "      <td>3.0</td>\n",
       "      <td>3</td>\n",
       "      <td>1846</td>\n",
       "      <td>3</td>\n",
       "      <td>33953761</td>\n",
       "      <td>-118333608</td>\n",
       "      <td>519000.0</td>\n",
       "      <td>-0.042564</td>\n",
       "      <td>17.0</td>\n",
       "      <td>1.352902</td>\n",
       "      <td>0.295348</td>\n",
       "      <td>0.848486</td>\n",
       "      <td>1.352902</td>\n",
       "      <td>0.961621</td>\n",
       "      <td>-0.984408</td>\n",
       "      <td>-1.777309</td>\n",
       "    </tr>\n",
       "    <tr>\n",
       "      <th>48908</th>\n",
       "      <td>3.0</td>\n",
       "      <td>2</td>\n",
       "      <td>1127</td>\n",
       "      <td>3</td>\n",
       "      <td>34415800</td>\n",
       "      <td>-118446000</td>\n",
       "      <td>196268.0</td>\n",
       "      <td>-0.036186</td>\n",
       "      <td>38.0</td>\n",
       "      <td>1.352902</td>\n",
       "      <td>-0.939387</td>\n",
       "      <td>-0.657041</td>\n",
       "      <td>1.352902</td>\n",
       "      <td>-0.650612</td>\n",
       "      <td>-0.847391</td>\n",
       "      <td>-0.858596</td>\n",
       "    </tr>\n",
       "    <tr>\n",
       "      <th>23095</th>\n",
       "      <td>3.0</td>\n",
       "      <td>3</td>\n",
       "      <td>2523</td>\n",
       "      <td>3</td>\n",
       "      <td>34681158</td>\n",
       "      <td>-118207170</td>\n",
       "      <td>277386.0</td>\n",
       "      <td>0.088203</td>\n",
       "      <td>17.0</td>\n",
       "      <td>1.352902</td>\n",
       "      <td>0.295348</td>\n",
       "      <td>2.266069</td>\n",
       "      <td>1.352902</td>\n",
       "      <td>-0.245381</td>\n",
       "      <td>1.824595</td>\n",
       "      <td>-1.777309</td>\n",
       "    </tr>\n",
       "    <tr>\n",
       "      <th>35555</th>\n",
       "      <td>3.0</td>\n",
       "      <td>3</td>\n",
       "      <td>1861</td>\n",
       "      <td>3</td>\n",
       "      <td>34416897</td>\n",
       "      <td>-118515070</td>\n",
       "      <td>397978.0</td>\n",
       "      <td>0.002939</td>\n",
       "      <td>8.0</td>\n",
       "      <td>1.352902</td>\n",
       "      <td>0.295348</td>\n",
       "      <td>0.879895</td>\n",
       "      <td>1.352902</td>\n",
       "      <td>0.357046</td>\n",
       "      <td>-0.006950</td>\n",
       "      <td>-2.171043</td>\n",
       "    </tr>\n",
       "    <tr>\n",
       "      <th>73657</th>\n",
       "      <td>2.0</td>\n",
       "      <td>2</td>\n",
       "      <td>1143</td>\n",
       "      <td>2</td>\n",
       "      <td>33742300</td>\n",
       "      <td>-118316000</td>\n",
       "      <td>234191.0</td>\n",
       "      <td>-0.032567</td>\n",
       "      <td>51.0</td>\n",
       "      <td>-0.024568</td>\n",
       "      <td>-0.939387</td>\n",
       "      <td>-0.623538</td>\n",
       "      <td>-0.024568</td>\n",
       "      <td>-0.461165</td>\n",
       "      <td>-0.769654</td>\n",
       "      <td>-0.289869</td>\n",
       "    </tr>\n",
       "  </tbody>\n",
       "</table></div>"
      ],
      "text/plain": [
       "       baths  beds  sqft  fullbaths  latitude  longitude  tax_value  logerror  \\\n",
       "24277    2.0     2   763          2  33823600 -118342000   327000.0 -0.005293   \n",
       "10231    2.0     4  1171          2  34280592 -118425818   353000.0 -0.011207   \n",
       "63485    2.0     3  1108          2  34097291 -117999167    39503.0  0.009146   \n",
       "60254    2.0     3  1398          2  33888595 -118062849   422081.0 -0.036329   \n",
       "68284    3.0     2  1055          3  34235900 -118463000   136312.0 -0.036942   \n",
       "...      ...   ...   ...        ...       ...        ...        ...       ...   \n",
       "70959    3.0     3  1846          3  33953761 -118333608   519000.0 -0.042564   \n",
       "48908    3.0     2  1127          3  34415800 -118446000   196268.0 -0.036186   \n",
       "23095    3.0     3  2523          3  34681158 -118207170   277386.0  0.088203   \n",
       "35555    3.0     3  1861          3  34416897 -118515070   397978.0  0.002939   \n",
       "73657    2.0     2  1143          2  33742300 -118316000   234191.0 -0.032567   \n",
       "\n",
       "        age  baths_scaled  beds_scaled  sqft_scaled  fullbaths_scaled  \\\n",
       "24277  20.0     -0.024568    -0.939387    -1.419227         -0.024568   \n",
       "10231  66.0     -0.024568     1.530082    -0.564908         -0.024568   \n",
       "63485  58.0     -0.024568     0.295348    -0.696825         -0.024568   \n",
       "60254  50.0     -0.024568     0.295348    -0.089589         -0.024568   \n",
       "68284  36.0      1.352902    -0.939387    -0.807803          1.352902   \n",
       "...     ...           ...          ...          ...               ...   \n",
       "70959  17.0      1.352902     0.295348     0.848486          1.352902   \n",
       "48908  38.0      1.352902    -0.939387    -0.657041          1.352902   \n",
       "23095  17.0      1.352902     0.295348     2.266069          1.352902   \n",
       "35555   8.0      1.352902     0.295348     0.879895          1.352902   \n",
       "73657  51.0     -0.024568    -0.939387    -0.623538         -0.024568   \n",
       "\n",
       "       tax_value_scaled  logerror_scaled  age_scaled  \n",
       "24277          0.002470        -0.183790   -1.646064  \n",
       "10231          0.132355        -0.310836    0.366355  \n",
       "63485         -1.433744         0.126370    0.016369  \n",
       "60254          0.477454        -0.850465   -0.333617  \n",
       "68284         -0.950127        -0.863638   -0.946093  \n",
       "...                 ...              ...         ...  \n",
       "70959          0.961621        -0.984408   -1.777309  \n",
       "48908         -0.650612        -0.847391   -0.858596  \n",
       "23095         -0.245381         1.824595   -1.777309  \n",
       "35555          0.357046        -0.006950   -2.171043  \n",
       "73657         -0.461165        -0.769654   -0.289869  \n",
       "\n",
       "[20184 rows x 16 columns]"
      ]
     },
     "execution_count": 42,
     "metadata": {},
     "output_type": "execute_result"
    }
   ],
   "source": [
    "train_scaled"
   ]
  },
  {
   "cell_type": "code",
   "execution_count": null,
   "id": "34391421",
   "metadata": {},
   "outputs": [],
   "source": []
  }
 ],
 "metadata": {
  "kernelspec": {
   "display_name": "Python 3",
   "language": "python",
   "name": "python3"
  },
  "language_info": {
   "codemirror_mode": {
    "name": "ipython",
    "version": 3
   },
   "file_extension": ".py",
   "mimetype": "text/x-python",
   "name": "python",
   "nbconvert_exporter": "python",
   "pygments_lexer": "ipython3",
   "version": "3.8.8"
  }
 },
 "nbformat": 4,
 "nbformat_minor": 5
}
